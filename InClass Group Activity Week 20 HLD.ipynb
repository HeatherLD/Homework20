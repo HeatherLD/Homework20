{
 "cells": [
  {
   "cell_type": "code",
   "execution_count": 11,
   "id": "d08aed67",
   "metadata": {},
   "outputs": [
    {
     "name": "stderr",
     "output_type": "stream",
     "text": [
      "[nltk_data] Downloading package gutenberg to\n",
      "[nltk_data]     /Users/hleighto/nltk_data...\n",
      "[nltk_data]   Package gutenberg is already up-to-date!\n"
     ]
    },
    {
     "data": {
      "text/plain": [
       "['austen-emma.txt',\n",
       " 'austen-persuasion.txt',\n",
       " 'austen-sense.txt',\n",
       " 'bible-kjv.txt',\n",
       " 'blake-poems.txt',\n",
       " 'bryant-stories.txt',\n",
       " 'burgess-busterbrown.txt',\n",
       " 'carroll-alice.txt',\n",
       " 'chesterton-ball.txt',\n",
       " 'chesterton-brown.txt',\n",
       " 'chesterton-thursday.txt',\n",
       " 'edgeworth-parents.txt',\n",
       " 'melville-moby_dick.txt',\n",
       " 'milton-paradise.txt',\n",
       " 'shakespeare-caesar.txt',\n",
       " 'shakespeare-hamlet.txt',\n",
       " 'shakespeare-macbeth.txt',\n",
       " 'whitman-leaves.txt']"
      ]
     },
     "execution_count": 11,
     "metadata": {},
     "output_type": "execute_result"
    }
   ],
   "source": [
    "import nltk\n",
    "import ssl\n",
    "from nltk.tokenize import word_tokenize\n",
    "nltk.download('gutenberg')\n",
    "\n",
    "\n",
    "nltk.corpus.gutenberg.fileids()"
   ]
  },
  {
   "cell_type": "markdown",
   "id": "acae1ef5",
   "metadata": {},
   "source": [
    "## 1. Take the result of the following line of code (but use whatever available text you want) and write a function to concatenate the data back into sentences, with one readable sentence in each list.\n"
   ]
  },
  {
   "cell_type": "code",
   "execution_count": 90,
   "id": "180e7327",
   "metadata": {},
   "outputs": [
    {
     "name": "stdout",
     "output_type": "stream",
     "text": [
      "[['[', 'Alice', \"'\", 's', 'Adventures', 'in', 'Wonderland', 'by', 'Lewis', 'Carroll', '1865', ']'], ['CHAPTER', 'I', '.'], ['Down', 'the', 'Rabbit', '-', 'Hole'], ['Alice', 'was', 'beginning', 'to', 'get', 'very', 'tired', 'of', 'sitting', 'by', 'her', 'sister', 'on', 'the', 'bank', ',', 'and', 'of', 'having', 'nothing', 'to', 'do', ':', 'once', 'or', 'twice', 'she', 'had', 'peeped', 'into', 'the', 'book', 'her', 'sister', 'was', 'reading', ',', 'but', 'it', 'had', 'no', 'pictures', 'or', 'conversations', 'in', 'it', ',', \"'\", 'and', 'what', 'is', 'the', 'use', 'of', 'a', 'book', \",'\", 'thought', 'Alice', \"'\", 'without', 'pictures', 'or', 'conversation', \"?'\"], ['So', 'she', 'was', 'considering', 'in', 'her', 'own', 'mind', '(', 'as', 'well', 'as', 'she', 'could', ',', 'for', 'the', 'hot', 'day', 'made', 'her', 'feel', 'very', 'sleepy', 'and', 'stupid', '),', 'whether', 'the', 'pleasure', 'of', 'making', 'a', 'daisy', '-', 'chain', 'would', 'be', 'worth', 'the', 'trouble', 'of', 'getting', 'up', 'and', 'picking', 'the', 'daisies', ',', 'when', 'suddenly', 'a', 'White', 'Rabbit', 'with', 'pink', 'eyes', 'ran', 'close', 'by', 'her', '.'], ['There', 'was', 'nothing', 'so', 'VERY', 'remarkable', 'in', 'that', ';', 'nor', 'did', 'Alice', 'think', 'it', 'so', 'VERY', 'much', 'out', 'of', 'the', 'way', 'to', 'hear', 'the', 'Rabbit', 'say', 'to', 'itself', ',', \"'\", 'Oh', 'dear', '!'], ['Oh', 'dear', '!'], ['I', 'shall', 'be', 'late', \"!'\"], ['(', 'when', 'she', 'thought', 'it', 'over', 'afterwards', ',', 'it', 'occurred', 'to', 'her', 'that', 'she', 'ought', 'to', 'have', 'wondered', 'at', 'this', ',', 'but', 'at', 'the', 'time', 'it', 'all', 'seemed', 'quite', 'natural', ');', 'but', 'when', 'the', 'Rabbit', 'actually', 'TOOK', 'A', 'WATCH', 'OUT', 'OF', 'ITS', 'WAISTCOAT', '-', 'POCKET', ',', 'and', 'looked', 'at', 'it', ',', 'and', 'then', 'hurried', 'on', ',', 'Alice', 'started', 'to', 'her', 'feet', ',', 'for', 'it', 'flashed', 'across', 'her', 'mind', 'that', 'she', 'had', 'never', 'before', 'seen', 'a', 'rabbit', 'with', 'either', 'a', 'waistcoat', '-', 'pocket', ',', 'or', 'a', 'watch', 'to', 'take', 'out', 'of', 'it', ',', 'and', 'burning', 'with', 'curiosity', ',', 'she', 'ran', 'across', 'the', 'field', 'after', 'it', ',', 'and', 'fortunately', 'was', 'just', 'in', 'time', 'to', 'see', 'it', 'pop', 'down', 'a', 'large', 'rabbit', '-', 'hole', 'under', 'the', 'hedge', '.'], ['In', 'another', 'moment', 'down', 'went', 'Alice', 'after', 'it', ',', 'never', 'once', 'considering', 'how', 'in', 'the', 'world', 'she', 'was', 'to', 'get', 'out', 'again', '.']]\n"
     ]
    }
   ],
   "source": [
    "sentences = nltk.corpus.gutenberg.sents(\"carroll-alice.txt\")[:10]\n",
    "print(sentences)"
   ]
  },
  {
   "cell_type": "code",
   "execution_count": 91,
   "id": "96ba55f9",
   "metadata": {},
   "outputs": [
    {
     "name": "stdout",
     "output_type": "stream",
     "text": [
      "[ Alice's Adventures in Wonderland by Lewis Carroll 1865 ]\n",
      "CHAPTER I.\n",
      "Down the Rabbit-Hole\n",
      "Alice was beginning to get very tired of sitting by her sister on the bank, and of having nothing to do: once or twice she had peeped into the book her sister was reading, but it had no pictures or conversations in it, 'and what is the use of a book,' thought Alice 'without pictures or conversation?'\n",
      "So she was considering in her own mind (as well as she could, for the hot day made her feel very sleepy and stupid), whether the pleasure of making a daisy-chain would be worth the trouble of getting up and picking the daisies, when suddenly a White Rabbit with pink eyes ran close by her.\n",
      "There was nothing so VERY remarkable in that; nor did Alice think it so VERY much out of the way to hear the Rabbit say to itself, 'Oh dear!\n",
      "Oh dear!\n",
      "I shall be late!'\n",
      "(when she thought it over afterwards, it occurred to her that she ought to have wondered at this, but at the time it all seemed quite natural); but when the Rabbit actually TOOK A WATCH OUT OF ITS WAISTCOAT-POCKET, and looked at it, and then hurried on, Alice started to her feet, for it flashed across her mind that she had never before seen a rabbit with either a waistcoat-pocket, or a watch to take out of it, and burning with curiosity, she ran across the field after it, and fortunately was just in time to see it pop down a large rabbit-hole under the hedge.\n",
      "In another moment down went Alice after it, never once considering how in the world she was to get out again.\n"
     ]
    }
   ],
   "source": [
    "for i in range(len(sentences)):\n",
    "    sentences[i] = ' '.join(word for word in sentences[i])\n",
    "    sentences[i] = sentences[i].replace(\" ,\", \",\")\n",
    "    sentences[i] = sentences[i].replace(\" ;\", \";\")\n",
    "    sentences[i] = sentences[i].replace(\" :\", \":\")\n",
    "    sentences[i] = sentences[i].replace(\" !\", \"!\")\n",
    "    sentences[i] = sentences[i].replace(\" ?\", \"?\")\n",
    "    sentences[i] = sentences[i].replace(\" - \", \"-\")\n",
    "    sentences[i] = sentences[i].replace(\" .\", \".\")\n",
    "    sentences[i] = sentences[i].replace(\" ' \", \" '\")\n",
    "    sentences[i] = sentences[i].replace(\"( \", \"(\")\n",
    "    sentences[i] = sentences[i].replace(\" )\", \")\")\n",
    "    sentences[i] = sentences[i].replace(\" 's\", \"'s\")\n",
    "\n",
    "    print(sentences[i])\n",
    "    \n",
    "\n",
    "    #sentences_fixed = sentences[i]\n",
    "    #sentences[i] = sentences[i].list(word for word in sentences[i])z\n"
   ]
  },
  {
   "cell_type": "code",
   "execution_count": 244,
   "id": "8dc4b64b",
   "metadata": {},
   "outputs": [
    {
     "name": "stdout",
     "output_type": "stream",
     "text": [
      "[\"[ Alice's Adventures in Wonderland by Lewis Carroll 1865 ]\", 'CHAPTER I.', 'Down the Rabbit-Hole', \"Alice was beginning to get very tired of sitting by her sister on the bank, and of having nothing to do: once or twice she had peeped into the book her sister was reading, but it had no pictures or conversations in it, 'and what is the use of a book,' thought Alice 'without pictures or conversation?'\", 'So she was considering in her own mind (as well as she could, for the hot day made her feel very sleepy and stupid), whether the pleasure of making a daisy-chain would be worth the trouble of getting up and picking the daisies, when suddenly a White Rabbit with pink eyes ran close by her.', \"There was nothing so VERY remarkable in that; nor did Alice think it so VERY much out of the way to hear the Rabbit say to itself, 'Oh dear!\", 'Oh dear!', \"I shall be late!'\", '(when she thought it over afterwards, it occurred to her that she ought to have wondered at this, but at the time it all seemed quite natural); but when the Rabbit actually TOOK A WATCH OUT OF ITS WAISTCOAT-POCKET, and looked at it, and then hurried on, Alice started to her feet, for it flashed across her mind that she had never before seen a rabbit with either a waistcoat-pocket, or a watch to take out of it, and burning with curiosity, she ran across the field after it, and fortunately was just in time to see it pop down a large rabbit-hole under the hedge.', 'In another moment down went Alice after it, never once considering how in the world she was to get out again.']\n"
     ]
    }
   ],
   "source": [
    "print(sentences)"
   ]
  },
  {
   "cell_type": "code",
   "execution_count": 245,
   "id": "b439efbe",
   "metadata": {},
   "outputs": [],
   "source": [
    "# Python3 code to demonstrate\n",
    "# to perform custom list split\n",
    "# using list comprehension + zip()\n",
    "\n",
    "# initializing string\n",
    "#test_list = sentences\n",
    "\n",
    "# initializing split index list\n",
    "#split_list = [\".\", \"?\", \"!\"]\n",
    "\n",
    "# printing original list\n",
    "#print (\"The original list is : \" + str(test_list))\n",
    "\n",
    "# printing original split index list\n",
    "#print (\"The original split index list : \" + str(split_list))\n",
    "\n",
    "# using list comprehension + zip()\n",
    "# to perform custom list split\n",
    "#res = [test_list[i : j] for i, j in zip([0] +\n",
    "#\t\tsplit_list, split_list + [None])]\n",
    "\n",
    "# printing result\n",
    "#print (\"The split lists are : \" + str(res))\n",
    "\n"
   ]
  },
  {
   "cell_type": "code",
   "execution_count": 246,
   "id": "2701f90b",
   "metadata": {},
   "outputs": [
    {
     "name": "stdout",
     "output_type": "stream",
     "text": [
      "[\"[ Alice's Adventures in Wonderland by Lewis Carroll 1865 ]\"]\n"
     ]
    }
   ],
   "source": [
    "def smooshing(s):\n",
    "    sentence_list = []\n",
    "    sentence_list1 = []\n",
    "    sentence_list2 = []\n",
    "    sentence_list3 = []\n",
    "    \n",
    "    for x in s:\n",
    "        if type(x) is list:\n",
    "            for item in x:\n",
    "                sentence_list.append(item)\n",
    "        elif x == ',':\n",
    "            x.replace(\" \", \"\")\n",
    "        else:\n",
    "            sentence_list.append(x)\n",
    "\n",
    "        for x in sentence_list:\n",
    "            if x != \"?''\" or x != \".\":\n",
    "                sentence_list1.append(x)\n",
    "            elif x == \"?''\" or x == \".\":\n",
    "                sentence_list1.append(x)\n",
    "            else:\n",
    "                pass\n",
    "        return sentence_list1\n",
    "\n",
    "        for x in sentence_list:\n",
    "            if x != \"?\" or x != \".\":\n",
    "                sentence_list2.append(x)\n",
    "            elif x == \"?\" or x == \".\":\n",
    "                sentence_list2.append(x)\n",
    "            else:\n",
    "                pass\n",
    "        return sentence_list2\n",
    "\n",
    "        for y in sentence_list:\n",
    "            if y != \"?\" or y != \".\":\n",
    "                sentence_list3.append(y)\n",
    "            elif y == \"?\" or y == \".\":\n",
    "                sentence_list3.append(y)\n",
    "            else:\n",
    "                pass\n",
    "        return sentence_list3\n",
    "\n",
    "    return sentence_list1\n",
    "    return sentence_list2\n",
    "    return sentence_list3\n",
    "\n",
    "print(smooshing(sentences))"
   ]
  },
  {
   "cell_type": "markdown",
   "id": "dae117c7",
   "metadata": {},
   "source": [
    "## 2. Create a function that accepts a list of values. Filter out all values that are numeric and return the new list.\n",
    "Input:\n",
    "[1,2,'a','b',7.6]\n",
    "\n",
    "output: [‘a’,’b’]"
   ]
  },
  {
   "cell_type": "code",
   "execution_count": 238,
   "id": "12f4abdf",
   "metadata": {},
   "outputs": [
    {
     "name": "stdout",
     "output_type": "stream",
     "text": [
      "[1,2,'a','b',7.6]\n"
     ]
    }
   ],
   "source": [
    "in_list = input()\n",
    "\n",
    "def function(x):\n",
    "    new_list = []\n",
    "    for item in x:\n",
    "        if item.isdigit():\n",
    "            item.replace(r'[^\\d.]+', '')\n",
    "        else:\n",
    "            new_list.append(item)\n",
    "    return new_list"
   ]
  },
  {
   "cell_type": "code",
   "execution_count": 243,
   "id": "fef10160",
   "metadata": {},
   "outputs": [
    {
     "name": "stdout",
     "output_type": "stream",
     "text": [
      "[1,2,'a','b',7.6]\n"
     ]
    },
    {
     "ename": "TypeError",
     "evalue": "'method' object is not iterable",
     "output_type": "error",
     "traceback": [
      "\u001b[0;31m---------------------------------------------------------------------------\u001b[0m",
      "\u001b[0;31mTypeError\u001b[0m                                 Traceback (most recent call last)",
      "\u001b[0;32m/var/folders/_l/z9z9h27n5s55l_mkbm1wh1nc0000gn/T/ipykernel_98009/1347258247.py\u001b[0m in \u001b[0;36m<module>\u001b[0;34m\u001b[0m\n\u001b[1;32m      1\u001b[0m \u001b[0minput\u001b[0m\u001b[0;34m(\u001b[0m\u001b[0;34m)\u001b[0m\u001b[0;34m\u001b[0m\u001b[0;34m\u001b[0m\u001b[0m\n\u001b[0;32m----> 2\u001b[0;31m \u001b[0malpha_list\u001b[0m \u001b[0;34m=\u001b[0m \u001b[0;34m[\u001b[0m\u001b[0mx\u001b[0m \u001b[0;32mfor\u001b[0m \u001b[0mx\u001b[0m \u001b[0;32min\u001b[0m \u001b[0minput\u001b[0m \u001b[0;32mif\u001b[0m \u001b[0;32mnot\u001b[0m \u001b[0mx\u001b[0m\u001b[0;34m.\u001b[0m\u001b[0misdigit\u001b[0m\u001b[0;34m(\u001b[0m\u001b[0;34m)\u001b[0m\u001b[0;34m]\u001b[0m\u001b[0;34m\u001b[0m\u001b[0;34m\u001b[0m\u001b[0m\n\u001b[0m",
      "\u001b[0;31mTypeError\u001b[0m: 'method' object is not iterable"
     ]
    }
   ],
   "source": [
    "input()\n",
    "alpha_list = [x for x in input if not x.isdigit()]"
   ]
  },
  {
   "cell_type": "code",
   "execution_count": 37,
   "id": "aa5e946a",
   "metadata": {},
   "outputs": [],
   "source": [
    "import scipy.cluster.hierarchy as shc"
   ]
  },
  {
   "cell_type": "code",
   "execution_count": null,
   "id": "e2e9b869",
   "metadata": {},
   "outputs": [],
   "source": [
    "#tokens = \"I like 55 donuts with glaze\".split()\n",
    "#no_integers = [token for token in tokens if not token.isdigit()]\n",
    "#print(no_integers)\n",
    "\n",
    "#    for i in x:\n",
    "#        i.replace(r'[^\\d.]+', '')\n",
    "#    return x\n",
    "\n",
    "#creature_names = input()\n",
    "\n",
    "#def names_vowels(x):\n",
    "      return x[0].lower() in 'aeiou'\n",
    "\n",
    "#filtered_names = filter(names_vowels, creature_names)\n",
    "\n",
    "#print(list(filtered_names))\n",
    "\n"
   ]
  }
 ],
 "metadata": {
  "kernelspec": {
   "display_name": "Python 3 (ipykernel)",
   "language": "python",
   "name": "python3"
  },
  "language_info": {
   "codemirror_mode": {
    "name": "ipython",
    "version": 3
   },
   "file_extension": ".py",
   "mimetype": "text/x-python",
   "name": "python",
   "nbconvert_exporter": "python",
   "pygments_lexer": "ipython3",
   "version": "3.9.7"
  }
 },
 "nbformat": 4,
 "nbformat_minor": 5
}
