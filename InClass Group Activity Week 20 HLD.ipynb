{
 "cells": [
  {
   "cell_type": "code",
   "execution_count": 17,
   "id": "d08aed67",
   "metadata": {},
   "outputs": [],
   "source": [
    "import nltk\n",
    "import ssl\n",
    "from nltk.tokenize import word_tokenize\n",
    "#nltk.download('gutenberg')\n",
    "\n",
    "\n",
    "#nltk.corpus.gutenberg.fileids()"
   ]
  },
  {
   "cell_type": "markdown",
   "id": "acae1ef5",
   "metadata": {},
   "source": [
    "## 1. Take the result of the following line of code (but use whatever available text you want) and write a function to concatenate the data back into sentences, with one readable sentence in each list.\n"
   ]
  },
  {
   "cell_type": "code",
   "execution_count": 15,
   "id": "180e7327",
   "metadata": {},
   "outputs": [
    {
     "name": "stdout",
     "output_type": "stream",
     "text": [
      "[['[', 'Alice', \"'\", 's', 'Adventures', 'in', 'Wonderland', 'by', 'Lewis', 'Carroll', '1865', ']'], ['CHAPTER', 'I', '.'], ['Down', 'the', 'Rabbit', '-', 'Hole'], ['Alice', 'was', 'beginning', 'to', 'get', 'very', 'tired', 'of', 'sitting', 'by', 'her', 'sister', 'on', 'the', 'bank', ',', 'and', 'of', 'having', 'nothing', 'to', 'do', ':', 'once', 'or', 'twice', 'she', 'had', 'peeped', 'into', 'the', 'book', 'her', 'sister', 'was', 'reading', ',', 'but', 'it', 'had', 'no', 'pictures', 'or', 'conversations', 'in', 'it', ',', \"'\", 'and', 'what', 'is', 'the', 'use', 'of', 'a', 'book', \",'\", 'thought', 'Alice', \"'\", 'without', 'pictures', 'or', 'conversation', \"?'\"], ['So', 'she', 'was', 'considering', 'in', 'her', 'own', 'mind', '(', 'as', 'well', 'as', 'she', 'could', ',', 'for', 'the', 'hot', 'day', 'made', 'her', 'feel', 'very', 'sleepy', 'and', 'stupid', '),', 'whether', 'the', 'pleasure', 'of', 'making', 'a', 'daisy', '-', 'chain', 'would', 'be', 'worth', 'the', 'trouble', 'of', 'getting', 'up', 'and', 'picking', 'the', 'daisies', ',', 'when', 'suddenly', 'a', 'White', 'Rabbit', 'with', 'pink', 'eyes', 'ran', 'close', 'by', 'her', '.'], ['There', 'was', 'nothing', 'so', 'VERY', 'remarkable', 'in', 'that', ';', 'nor', 'did', 'Alice', 'think', 'it', 'so', 'VERY', 'much', 'out', 'of', 'the', 'way', 'to', 'hear', 'the', 'Rabbit', 'say', 'to', 'itself', ',', \"'\", 'Oh', 'dear', '!'], ['Oh', 'dear', '!'], ['I', 'shall', 'be', 'late', \"!'\"], ['(', 'when', 'she', 'thought', 'it', 'over', 'afterwards', ',', 'it', 'occurred', 'to', 'her', 'that', 'she', 'ought', 'to', 'have', 'wondered', 'at', 'this', ',', 'but', 'at', 'the', 'time', 'it', 'all', 'seemed', 'quite', 'natural', ');', 'but', 'when', 'the', 'Rabbit', 'actually', 'TOOK', 'A', 'WATCH', 'OUT', 'OF', 'ITS', 'WAISTCOAT', '-', 'POCKET', ',', 'and', 'looked', 'at', 'it', ',', 'and', 'then', 'hurried', 'on', ',', 'Alice', 'started', 'to', 'her', 'feet', ',', 'for', 'it', 'flashed', 'across', 'her', 'mind', 'that', 'she', 'had', 'never', 'before', 'seen', 'a', 'rabbit', 'with', 'either', 'a', 'waistcoat', '-', 'pocket', ',', 'or', 'a', 'watch', 'to', 'take', 'out', 'of', 'it', ',', 'and', 'burning', 'with', 'curiosity', ',', 'she', 'ran', 'across', 'the', 'field', 'after', 'it', ',', 'and', 'fortunately', 'was', 'just', 'in', 'time', 'to', 'see', 'it', 'pop', 'down', 'a', 'large', 'rabbit', '-', 'hole', 'under', 'the', 'hedge', '.'], ['In', 'another', 'moment', 'down', 'went', 'Alice', 'after', 'it', ',', 'never', 'once', 'considering', 'how', 'in', 'the', 'world', 'she', 'was', 'to', 'get', 'out', 'again', '.']]\n"
     ]
    }
   ],
   "source": [
    "sentences = nltk.corpus.gutenberg.sents(\"carroll-alice.txt\")[:10]\n",
    "print(sentences)"
   ]
  },
  {
   "cell_type": "code",
   "execution_count": 16,
   "id": "96ba55f9",
   "metadata": {},
   "outputs": [
    {
     "name": "stdout",
     "output_type": "stream",
     "text": [
      "[[\"[ Alice's Adventures in Wonderland by Lewis Carroll 1865 ]\"], ['CHAPTER I.'], ['Down the Rabbit-Hole'], [\"Alice was beginning to get very tired of sitting by her sister on the bank, and of having nothing to do: once or twice she had peeped into the book her sister was reading, but it had no pictures or conversations in it, 'and what is the use of a book,' thought Alice 'without pictures or conversation?'\"], ['So she was considering in her own mind (as well as she could, for the hot day made her feel very sleepy and stupid), whether the pleasure of making a daisy-chain would be worth the trouble of getting up and picking the daisies, when suddenly a White Rabbit with pink eyes ran close by her.'], [\"There was nothing so VERY remarkable in that; nor did Alice think it so VERY much out of the way to hear the Rabbit say to itself, 'Oh dear!\"], ['Oh dear!'], [\"I shall be late!'\"], ['(when she thought it over afterwards, it occurred to her that she ought to have wondered at this, but at the time it all seemed quite natural); but when the Rabbit actually TOOK A WATCH OUT OF ITS WAISTCOAT-POCKET, and looked at it, and then hurried on, Alice started to her feet, for it flashed across her mind that she had never before seen a rabbit with either a waistcoat-pocket, or a watch to take out of it, and burning with curiosity, she ran across the field after it, and fortunately was just in time to see it pop down a large rabbit-hole under the hedge.'], ['In another moment down went Alice after it, never once considering how in the world she was to get out again.']]\n"
     ]
    }
   ],
   "source": [
    "## -- this is the one that works!! -- \n",
    "sentence_list = []\n",
    "\n",
    "for i in range(len(sentences)):\n",
    "    temp_list = []\n",
    "    sentences[i] = ' '.join(word for word in sentences[i])\n",
    "    sentences[i] = sentences[i].replace(\" ,\", \",\")\n",
    "    sentences[i] = sentences[i].replace(\" ;\", \";\")\n",
    "    sentences[i] = sentences[i].replace(\" :\", \":\")\n",
    "    sentences[i] = sentences[i].replace(\" !\", \"!\")\n",
    "    sentences[i] = sentences[i].replace(\" ?\", \"?\")\n",
    "    sentences[i] = sentences[i].replace(\" - \", \"-\")\n",
    "    sentences[i] = sentences[i].replace(\" .\", \".\")\n",
    "    sentences[i] = sentences[i].replace(\" ' \", \" '\")\n",
    "    sentences[i] = sentences[i].replace(\"( \", \"(\")\n",
    "    sentences[i] = sentences[i].replace(\" )\", \")\")\n",
    "    sentences[i] = sentences[i].replace(\" 's\", \"'s\")\n",
    "\n",
    "    temp_list.append(sentences[i])\n",
    "    \n",
    "    sentence_list.append(temp_list)\n",
    "    \n",
    "print(sentence_list)\n"
   ]
  },
  {
   "cell_type": "code",
   "execution_count": 8,
   "id": "2701f90b",
   "metadata": {},
   "outputs": [
    {
     "name": "stdout",
     "output_type": "stream",
     "text": [
      "[\"[ Alice's Adventures in Wonderland by Lewis Carroll 1865 ]\"]\n"
     ]
    }
   ],
   "source": [
    "## --alternate solution that didn't work out --\n",
    "def smooshing(s):\n",
    "    sentence_list = []\n",
    "    sentence_list1 = []\n",
    "    sentence_list2 = []\n",
    "    sentence_list3 = []\n",
    "    \n",
    "    for x in s:\n",
    "        if type(x) is list:\n",
    "            for item in x:\n",
    "                sentence_list.append(item)\n",
    "        elif x == ',':\n",
    "            x.replace(\" \", \"\")\n",
    "        else:\n",
    "            sentence_list.append(x)\n",
    "\n",
    "        for x in sentence_list:\n",
    "            if x != \"?''\" or x != \".\":\n",
    "                sentence_list1.append(x)\n",
    "            elif x == \"?''\" or x == \".\":\n",
    "                sentence_list1.append(x)\n",
    "            else:\n",
    "                pass\n",
    "        return sentence_list1\n",
    "\n",
    "        for x in sentence_list:\n",
    "            if x != \"?\" or x != \".\":\n",
    "                sentence_list2.append(x)\n",
    "            elif x == \"?\" or x == \".\":\n",
    "                sentence_list2.append(x)\n",
    "            else:\n",
    "                pass\n",
    "        return sentence_list2\n",
    "\n",
    "        for y in sentence_list:\n",
    "            if y != \"?\" or y != \".\":\n",
    "                sentence_list3.append(y)\n",
    "            elif y == \"?\" or y == \".\":\n",
    "                sentence_list3.append(y)\n",
    "            else:\n",
    "                pass\n",
    "        return sentence_list3\n",
    "\n",
    "    return sentence_list1\n",
    "    return sentence_list2\n",
    "    return sentence_list3\n",
    "\n",
    "print(smooshing(sentences))"
   ]
  },
  {
   "cell_type": "markdown",
   "id": "dae117c7",
   "metadata": {},
   "source": [
    "## 2. Create a function that accepts a list of values. Filter out all values that are numeric and return the new list.\n",
    "Input:\n",
    "[1,2,'a','b',7.6]\n",
    "\n",
    "output: [‘a’,’b’]"
   ]
  },
  {
   "cell_type": "code",
   "execution_count": 3,
   "id": "4937200e",
   "metadata": {},
   "outputs": [
    {
     "name": "stdout",
     "output_type": "stream",
     "text": [
      "Enter number [1,2,'a','b',7.6]\n",
      "['a', 'b']\n"
     ]
    }
   ],
   "source": [
    "# input is a string; turn it into a list\n",
    " \n",
    "li = eval(input(\"Enter number \"))\n",
    "\n",
    "li = [x for x in li if str(x).isalpha()]\n",
    "        \n",
    "# output\n",
    "print(li)"
   ]
  }
 ],
 "metadata": {
  "kernelspec": {
   "display_name": "Python 3 (ipykernel)",
   "language": "python",
   "name": "python3"
  },
  "language_info": {
   "codemirror_mode": {
    "name": "ipython",
    "version": 3
   },
   "file_extension": ".py",
   "mimetype": "text/x-python",
   "name": "python",
   "nbconvert_exporter": "python",
   "pygments_lexer": "ipython3",
   "version": "3.9.7"
  }
 },
 "nbformat": 4,
 "nbformat_minor": 5
}
